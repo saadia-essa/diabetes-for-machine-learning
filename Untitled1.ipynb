{
  "nbformat": 4,
  "nbformat_minor": 0,
  "metadata": {
    "colab": {
      "provenance": []
    },
    "kernelspec": {
      "name": "python3",
      "display_name": "Python 3"
    },
    "language_info": {
      "name": "python"
    }
  },
  "cells": [
    {
      "cell_type": "code",
      "source": [
        "import pandas as pd\n",
        "import numpy as np\n",
        "from sklearn.model_selection import KFold, cross_val_score\n",
        "from sklearn.neighbors import KNeighborsClassifier\n",
        "from sklearn.tree import DecisionTreeClassifier\n",
        "from sklearn.preprocessing import StandardScaler\n",
        "\n",
        "# Load the dataset\n",
        "data = pd.read_csv('diabetes.csv')\n",
        "\n",
        "# Replace invalid zeros with NaN\n",
        "cols = ['Glucose', 'BloodPressure', 'SkinThickness', 'Insulin', 'BMI']\n",
        "data[cols] = data[cols].replace({0: np.nan})\n",
        "\n",
        "# Fill NaNs with the mean\n",
        "for col in cols:\n",
        "    data[col].fillna(data[col].mean(), inplace=True)\n",
        "\n",
        "# Scale the data\n",
        "scaler = StandardScaler()\n",
        "data[cols] = scaler.fit_transform(data[cols])\n",
        "\n",
        "# Features and target\n",
        "X = data.drop('Outcome', axis=1)\n",
        "y = data['Outcome']\n",
        "\n",
        "# k-fold cross-validation\n",
        "kf = KFold(n_splits=5, shuffle=True, random_state=1)\n",
        "\n",
        "# KNN\n",
        "knn = KNeighborsClassifier()\n",
        "knn_scores = cross_val_score(knn, X, y, cv=kf)\n",
        "print(\"KNN Cross-validation scores:\", knn_scores)\n",
        "print(\"KNN Mean score:\", knn_scores.mean())\n",
        "\n",
        "# Decision Tree\n",
        "dt = DecisionTreeClassifier(random_state=1)\n",
        "dt_scores = cross_val_score(dt, X, y, cv=kf)\n",
        "print(\"Decision Tree Cross-validation scores:\", dt_scores)\n",
        "print(\"Decision Tree Mean score:\", dt_scores.mean())\n"
      ],
      "metadata": {
        "colab": {
          "base_uri": "https://localhost:8080/"
        },
        "id": "hofn1WuEiuoa",
        "outputId": "52da4086-4f4c-44ac-936a-21882043eeb4"
      },
      "execution_count": 6,
      "outputs": [
        {
          "output_type": "stream",
          "name": "stdout",
          "text": [
            "KNN Cross-validation scores: [0.75974026 0.72727273 0.68831169 0.76470588 0.69934641]\n",
            "KNN Mean score: 0.7278753925812749\n",
            "Decision Tree Cross-validation scores: [0.69480519 0.66883117 0.61688312 0.7254902  0.70588235]\n",
            "Decision Tree Mean score: 0.6823784059078177\n"
          ]
        }
      ]
    }
  ]
}